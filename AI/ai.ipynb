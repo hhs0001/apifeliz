{
 "cells": [
  {
   "cell_type": "code",
   "execution_count": 5,
   "metadata": {},
   "outputs": [
    {
     "name": "stdout",
     "output_type": "stream",
     "text": [
      "                                          clean_text  category_Negative  \\\n",
      "0  when modi promised “minimum government maximum...                  1   \n",
      "1  talk all the nonsense and continue all the dra...                  0   \n",
      "2  what did just say vote for modi  welcome bjp t...                  0   \n",
      "3  asking his supporters prefix chowkidar their n...                  0   \n",
      "4  answer who among these the most powerful world...                  0   \n",
      "\n",
      "   category_Neutral  category_Positive  \n",
      "0                 0                  0  \n",
      "1                 1                  0  \n",
      "2                 0                  1  \n",
      "3                 0                  1  \n",
      "4                 0                  1  \n"
     ]
    }
   ],
   "source": [
    "import numpy as np\n",
    "import pandas as pd\n",
    "import tensorflow as tf\n",
    "\n",
    "dataset = pd.read_csv('./dataset/Twitter_Data.csv')\n",
    "\n",
    "#drop nan values\n",
    "dataset = dataset.dropna()\n",
    "\n",
    "#drop duplicates\n",
    "\n",
    "dataset = dataset.drop_duplicates()\n",
    "\n",
    "#transform the sentiment to text\n",
    "dataset['category'] = dataset['category'].map({-1:'Negative', 1:'Positive', 0:'Neutral'})\n",
    "\n",
    "#get dummy variables\n",
    "\n",
    "dataset = pd.get_dummies(dataset, columns=['category'])\n",
    "\n",
    "print(dataset.head())\n",
    "\n",
    "x = dataset[\"clean_text\"]\n",
    "\n",
    "y = dataset.drop(['clean_text'], axis=1)\n",
    "\n",
    "x = x.to_numpy(dtype=\"<U43\")\n",
    "\n",
    "y = y.to_numpy()\n",
    "\n",
    "from sklearn.model_selection import train_test_split\n",
    "\n",
    "x_train, x_test, y_train, y_test = train_test_split(x, y, test_size=0.2, random_state=42)"
   ]
  },
  {
   "cell_type": "code",
   "execution_count": 6,
   "metadata": {},
   "outputs": [],
   "source": [
    "VOCAB_SIZE = 1000\n",
    "encoder = tf.keras.layers.TextVectorization(\n",
    "    max_tokens=VOCAB_SIZE)\n",
    "encoder.adapt(x_train)\n",
    "\n",
    "\n",
    "vocab = np.array(encoder.get_vocabulary())\n",
    "vocab[:20]\n",
    "\n",
    "\n",
    "model = tf.keras.Sequential([\n",
    "    encoder,\n",
    "    tf.keras.layers.Embedding(len(encoder.get_vocabulary()), 64, mask_zero=True),\n",
    "    tf.keras.layers.Bidirectional(tf.keras.layers.LSTM(64,  return_sequences=True)),\n",
    "    tf.keras.layers.Bidirectional(tf.keras.layers.LSTM(32)),\n",
    "    tf.keras.layers.Dense(64, activation='relu'),\n",
    "    tf.keras.layers.Dropout(0.5),\n",
    "    tf.keras.layers.Dense(1)\n",
    "])"
   ]
  },
  {
   "cell_type": "code",
   "execution_count": 11,
   "metadata": {},
   "outputs": [],
   "source": [
    "model.compile(loss=tf.keras.losses.BinaryCrossentropy(from_logits=True),\n",
    "              optimizer=tf.keras.optimizers.Adam(1e-4),\n",
    "              metrics=['accuracy'])"
   ]
  },
  {
   "cell_type": "code",
   "execution_count": null,
   "metadata": {},
   "outputs": [],
   "source": [
    "history = model.fit(x_train, y_train,epochs=20)"
   ]
  },
  {
   "cell_type": "code",
   "execution_count": 76,
   "metadata": {},
   "outputs": [
    {
     "name": "stdout",
     "output_type": "stream",
     "text": [
      "1019/1019 [==============================] - 8s 5ms/step - loss: nan - accuracy: 0.3385\n",
      "Test Loss: nan\n",
      "Test Accuracy: 0.3385078012943268\n"
     ]
    }
   ],
   "source": [
    "test_loss, test_acc = model.evaluate(x_test, y_test)\n",
    "\n",
    "print('Test Loss:', test_loss)\n",
    "print('Test Accuracy:', test_acc)"
   ]
  },
  {
   "cell_type": "code",
   "execution_count": 77,
   "metadata": {},
   "outputs": [
    {
     "name": "stderr",
     "output_type": "stream",
     "text": [
      "WARNING:absl:Found untraced functions such as lstm_cell_31_layer_call_fn, lstm_cell_31_layer_call_and_return_conditional_losses, lstm_cell_32_layer_call_fn, lstm_cell_32_layer_call_and_return_conditional_losses, lstm_cell_34_layer_call_fn while saving (showing 5 of 8). These functions will not be directly callable after loading.\n"
     ]
    },
    {
     "name": "stdout",
     "output_type": "stream",
     "text": [
      "INFO:tensorflow:Assets written to: model1\\assets\n"
     ]
    },
    {
     "name": "stderr",
     "output_type": "stream",
     "text": [
      "INFO:tensorflow:Assets written to: model1\\assets\n"
     ]
    }
   ],
   "source": [
    "#save the model\n",
    "\n",
    "model.save('model1', save_format=\"tf\")"
   ]
  },
  {
   "cell_type": "code",
   "execution_count": 9,
   "metadata": {},
   "outputs": [
    {
     "name": "stdout",
     "output_type": "stream",
     "text": [
      "Epoch 1/20\n",
      "4075/4075 [==============================] - 42s 10ms/step - loss: 0.8498 - accuracy: 0.5832 - val_loss: 0.8201 - val_accuracy: 0.5914\n",
      "Epoch 2/20\n",
      "4075/4075 [==============================] - 40s 10ms/step - loss: 0.8145 - accuracy: 0.6017 - val_loss: 0.8175 - val_accuracy: 0.5973\n",
      "Epoch 3/20\n",
      "4075/4075 [==============================] - 40s 10ms/step - loss: 0.8056 - accuracy: 0.6069 - val_loss: 0.8094 - val_accuracy: 0.6016\n",
      "Epoch 4/20\n",
      "4075/4075 [==============================] - 41s 10ms/step - loss: 0.7982 - accuracy: 0.6111 - val_loss: 0.8100 - val_accuracy: 0.6031\n",
      "Epoch 5/20\n",
      "4075/4075 [==============================] - 40s 10ms/step - loss: 0.7922 - accuracy: 0.6150 - val_loss: 0.8074 - val_accuracy: 0.6053\n",
      "Epoch 6/20\n",
      "4075/4075 [==============================] - 41s 10ms/step - loss: 0.7861 - accuracy: 0.6179 - val_loss: 0.8083 - val_accuracy: 0.6037\n",
      "Epoch 7/20\n",
      "4075/4075 [==============================] - 42s 10ms/step - loss: 0.7808 - accuracy: 0.6210 - val_loss: 0.8073 - val_accuracy: 0.6085\n",
      "Epoch 8/20\n",
      "4075/4075 [==============================] - 42s 10ms/step - loss: 0.7754 - accuracy: 0.6230 - val_loss: 0.8092 - val_accuracy: 0.6055\n",
      "Epoch 9/20\n",
      "4075/4075 [==============================] - 42s 10ms/step - loss: 0.7691 - accuracy: 0.6265 - val_loss: 0.8123 - val_accuracy: 0.6050\n",
      "Epoch 10/20\n",
      "4075/4075 [==============================] - 42s 10ms/step - loss: 0.7637 - accuracy: 0.6288 - val_loss: 0.8192 - val_accuracy: 0.6056\n",
      "Epoch 11/20\n",
      "4075/4075 [==============================] - 41s 10ms/step - loss: 0.7579 - accuracy: 0.6321 - val_loss: 0.8241 - val_accuracy: 0.6057\n",
      "Epoch 12/20\n",
      "4075/4075 [==============================] - 42s 10ms/step - loss: 0.7520 - accuracy: 0.6356 - val_loss: 0.8308 - val_accuracy: 0.6028\n",
      "Epoch 13/20\n",
      "4075/4075 [==============================] - 41s 10ms/step - loss: 0.7463 - accuracy: 0.6381 - val_loss: 0.8248 - val_accuracy: 0.6061\n",
      "Epoch 14/20\n",
      "4075/4075 [==============================] - 41s 10ms/step - loss: 0.7421 - accuracy: 0.6389 - val_loss: 0.8387 - val_accuracy: 0.6026\n",
      "Epoch 15/20\n",
      "4075/4075 [==============================] - 43s 10ms/step - loss: 0.7358 - accuracy: 0.6428 - val_loss: 0.8323 - val_accuracy: 0.6033\n",
      "Epoch 16/20\n",
      "4075/4075 [==============================] - 42s 10ms/step - loss: 0.7300 - accuracy: 0.6454 - val_loss: 0.8409 - val_accuracy: 0.6019\n",
      "Epoch 17/20\n",
      "4075/4075 [==============================] - 42s 10ms/step - loss: 0.7246 - accuracy: 0.6489 - val_loss: 0.8489 - val_accuracy: 0.6028\n",
      "Epoch 18/20\n",
      "4075/4075 [==============================] - 42s 10ms/step - loss: 0.7214 - accuracy: 0.6486 - val_loss: 0.8579 - val_accuracy: 0.6005\n",
      "Epoch 19/20\n",
      "4075/4075 [==============================] - 44s 11ms/step - loss: 0.7175 - accuracy: 0.6525 - val_loss: 0.8509 - val_accuracy: 0.6004\n",
      "Epoch 20/20\n",
      "4075/4075 [==============================] - 42s 10ms/step - loss: 0.7127 - accuracy: 0.6549 - val_loss: 0.8654 - val_accuracy: 0.6007\n",
      "1019/1019 [==============================] - 3s 3ms/step - loss: 0.8654 - accuracy: 0.6007\n",
      "Test Loss: 0.8654265403747559\n",
      "Test Accuracy: 0.6006627082824707\n"
     ]
    }
   ],
   "source": [
    "model2 = tf.keras.Sequential([\n",
    "    encoder,\n",
    "    tf.keras.layers.Embedding(len(encoder.get_vocabulary()), 64, mask_zero=True),\n",
    "    tf.keras.layers.LSTM(100, dropout=0.2, recurrent_dropout=0.2),\n",
    "    tf.keras.layers.Dense(128, activation='relu'),\n",
    "    tf.keras.layers.Dropout(0.5),\n",
    "    tf.keras.layers.Dense(3, activation='softmax')\n",
    "])\n",
    "\n",
    "tf.keras.optimizers.Adam(learning_rate=0.00146, name='Adam')\n",
    "\n",
    "model2.compile(loss=tf.keras.losses.CategoricalCrossentropy(from_logits=True),\n",
    "                optimizer='Adam',\n",
    "                metrics=['accuracy'])\n",
    "\n",
    "history2 = model2.fit(x_train, y_train, epochs=20, validation_data=(x_test, y_test))\n",
    "\n",
    "test_loss2, test_acc2 = model2.evaluate(x_test, y_test)\n",
    "\n",
    "print('Test Loss:', test_loss2)\n",
    "print('Test Accuracy:', test_acc2)"
   ]
  },
  {
   "cell_type": "code",
   "execution_count": 10,
   "metadata": {},
   "outputs": [
    {
     "name": "stdout",
     "output_type": "stream",
     "text": [
      "INFO:tensorflow:Assets written to: model2\\assets\n"
     ]
    }
   ],
   "source": [
    "#save the model\n",
    "\n",
    "model2.save('model2', save_format=\"tf\")"
   ]
  },
  {
   "cell_type": "code",
   "execution_count": 11,
   "metadata": {},
   "outputs": [
    {
     "data": {
      "image/png": "[encoded data removed]",
      "text/plain": [
       "<Figure size 640x480 with 1 Axes>"
      ]
     },
     "metadata": {},
     "output_type": "display_data"
    }
   ],
   "source": [
    "#plot model 2\n",
    "\n",
    "import matplotlib.pyplot as plt\n",
    "\n",
    "plt.plot(history2.history['accuracy'])\n",
    "plt.plot(history2.history['loss'])\n",
    "plt.title('model accuracy and loss')\n",
    "plt.ylabel('accuracy and loss')\n",
    "plt.xlabel('epoch')\n",
    "plt.legend(['accuracy', 'loss'], loc='upper left')\n",
    "plt.show()"
   ]
  },
  {
   "cell_type": "code",
   "execution_count": 17,
   "metadata": {},
   "outputs": [],
   "source": [
    "df = pd.read_csv('./dataset/Twitter_Data.csv')\n",
    "\n",
    "\n",
    "def transform_category(category):\n",
    "    if category == 1.0:\n",
    "        return \"Good\"\n",
    "    if category == 0.0:\n",
    "        return \"Neutral\"\n",
    "    if category == -1.0:\n",
    "        return \"Bad\"\n",
    "\n",
    "df['category'] = df['category'].apply(lambda category: transform_category(category))\n",
    "\n",
    "category = pd.get_dummies(df.category)\n",
    "df_category = pd.concat([df, category], axis=1)\n",
    "df_category = df_category.drop(columns='category')\n",
    "\n",
    "text = df_category['clean_text'].astype(str)\n",
    "label = df_category[['Bad', 'Good', 'Neutral']].values\n",
    "\n",
    "category_train, category_test, label_train, label_test = train_test_split(text, label, test_size = 0.3)"
   ]
  },
  {
   "cell_type": "code",
   "execution_count": 18,
   "metadata": {},
   "outputs": [],
   "source": [
    "tokenizer2 = tf.keras.preprocessing.text.Tokenizer(num_words=1920, oov_token=\"x\")\n",
    "tokenizer2.fit_on_texts(category_train)\n",
    "tokenizer2.fit_on_texts(category_test)\n",
    "\n",
    "sekuens_train = tokenizer2.texts_to_sequences(category_train)\n",
    "sekuens_test = tokenizer2.texts_to_sequences(category_test)\n",
    "\n",
    "padded_train = tf.keras.preprocessing.sequence.pad_sequences(sekuens_train)\n",
    "padded_test = tf.keras.preprocessing.sequence.pad_sequences(sekuens_test)"
   ]
  },
  {
   "cell_type": "code",
   "execution_count": 19,
   "metadata": {},
   "outputs": [],
   "source": [
    "model3 = tf.keras.Sequential([\n",
    "    tf.keras.layers.Embedding(input_dim=1920, output_dim=16),\n",
    "    tf.keras.layers.LSTM(64),\n",
    "    tf.keras.layers.Dense(128, activation='relu'),\n",
    "    tf.keras.layers.Dropout(0.5),\n",
    "    tf.keras.layers.Dense(3, activation='softmax')\n",
    "])"
   ]
  },
  {
   "cell_type": "code",
   "execution_count": 29,
   "metadata": {},
   "outputs": [],
   "source": [
    "model3.compile(optimizer = 'Adam',loss = 'categorical_crossentropy',metrics = ['accuracy'])"
   ]
  },
  {
   "cell_type": "code",
   "execution_count": 30,
   "metadata": {},
   "outputs": [
    {
     "name": "stdout",
     "output_type": "stream",
     "text": [
      "Epoch 1/10\n",
      "3566/3566 [==============================] - 50s 14ms/step - loss: 0.3068 - accuracy: 0.9027\n",
      "Epoch 2/10\n",
      "3566/3566 [==============================] - 48s 13ms/step - loss: 0.2964 - accuracy: 0.9048\n",
      "Epoch 3/10\n",
      "3566/3566 [==============================] - 48s 13ms/step - loss: 0.2876 - accuracy: 0.9067\n",
      "Epoch 4/10\n",
      "3566/3566 [==============================] - 48s 13ms/step - loss: 0.2786 - accuracy: 0.9085\n",
      "Epoch 5/10\n",
      "3566/3566 [==============================] - 48s 13ms/step - loss: 0.2705 - accuracy: 0.9099\n",
      "Epoch 6/10\n",
      "3566/3566 [==============================] - 50s 14ms/step - loss: 0.2616 - accuracy: 0.9117\n",
      "Epoch 7/10\n",
      "3566/3566 [==============================] - 49s 14ms/step - loss: 0.2530 - accuracy: 0.9130\n",
      "Epoch 8/10\n",
      "3566/3566 [==============================] - 48s 13ms/step - loss: 0.2448 - accuracy: 0.9152\n",
      "Epoch 9/10\n",
      "3566/3566 [==============================] - 48s 14ms/step - loss: 0.2364 - accuracy: 0.9173\n",
      "Epoch 10/10\n",
      "3566/3566 [==============================] - 49s 14ms/step - loss: 0.2288 - accuracy: 0.9189\n"
     ]
    }
   ],
   "source": [
    "history3 = model3.fit(padded_train, label_train, epochs=10)"
   ]
  },
  {
   "cell_type": "code",
   "execution_count": 37,
   "metadata": {},
   "outputs": [
    {
     "data": {
      "image/png": "[encoded data removed]",
      "text/plain": [
       "<Figure size 640x480 with 1 Axes>"
      ]
     },
     "metadata": {},
     "output_type": "display_data"
    },
    {
     "name": "stdout",
     "output_type": "stream",
     "text": [
      "1528/1528 [==============================] - 8s 5ms/step - loss: 0.3875 - accuracy: 0.8938\n",
      "Test Loss: 0.38745957612991333\n",
      "Test Accuracy: 0.8938111066818237\n"
     ]
    }
   ],
   "source": [
    "plt.plot(history3.history['accuracy'])\n",
    "plt.plot(history3.history['loss'])\n",
    "plt.title('model accuracy and loss')\n",
    "plt.ylabel('accuracy and loss')\n",
    "plt.xlabel('epoch')\n",
    "plt.legend(['accuracy', 'loss'], loc='upper left')\n",
    "plt.show()\n",
    "\n",
    "test_loss3, test_acc3 = model3.evaluate(padded_test, label_test)\n",
    "\n",
    "print('Test Loss:', test_loss3)\n",
    "print('Test Accuracy:', test_acc3)"
   ]
  },
  {
   "cell_type": "code",
   "execution_count": 38,
   "metadata": {},
   "outputs": [
    {
     "name": "stderr",
     "output_type": "stream",
     "text": [
      "WARNING:absl:Found untraced functions such as lstm_cell_10_layer_call_fn, lstm_cell_10_layer_call_and_return_conditional_losses while saving (showing 2 of 2). These functions will not be directly callable after loading.\n"
     ]
    },
    {
     "name": "stdout",
     "output_type": "stream",
     "text": [
      "INFO:tensorflow:Assets written to: model3\\assets\n"
     ]
    },
    {
     "name": "stderr",
     "output_type": "stream",
     "text": [
      "INFO:tensorflow:Assets written to: model3\\assets\n"
     ]
    }
   ],
   "source": [
    "model3.save('model3', save_format=\"tf\")"
   ]
  },
  {
   "cell_type": "code",
   "execution_count": 39,
   "metadata": {},
   "outputs": [],
   "source": [
    "#save the tokenizer\n",
    "\n",
    "import pickle\n",
    "\n",
    "with open('tokenizer.pickle', 'wb') as handle:\n",
    "    pickle.dump(tokenizer2, handle, protocol=pickle.HIGHEST_PROTOCOL)\n"
   ]
  }
 ],
 "metadata": {
  "kernelspec": {
   "display_name": "Python 3.10.7 64-bit",
   "language": "python",
   "name": "python3"
  },
  "language_info": {
   "codemirror_mode": {
    "name": "ipython",
    "version": 3
   },
   "file_extension": ".py",
   "mimetype": "text/x-python",
   "name": "python",
   "nbconvert_exporter": "python",
   "pygments_lexer": "ipython3",
   "version": "3.10.7"
  },
  "orig_nbformat": 4,
  "vscode": {
   "interpreter": {
    "hash": "1766f6fb2778ad2deabb55c8a77a9b422ec6f0de62dbf216d383ab8c57cd3118"
   }
  }
 },
 "nbformat": 4,
 "nbformat_minor": 2
}
