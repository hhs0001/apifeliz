{
 "cells": [
  {
   "cell_type": "markdown",
   "metadata": {},
   "source": [
    "## **Inicializando os dados 📃 **\n",
    "\n",
    "Os dados tem a seguinte forma \n",
    "\n",
    "\n",
    "| Clean_text | Category |\n",
    "|--|--|\n",
    "| nessa célula existe um tweet de alguma pessoa | nessa célula existe um numero (-1/0/1) que representa o sentimento do tweet sendo -1 ruim e 1 bom |\n"
   ]
  },
  {
   "cell_type": "markdown",
   "metadata": {},
   "source": [
    "1. Importamos as bibliotecas que precisamos de utilizar. \n",
    "2. Carregamos os dados, e descartamos os valores Nan e duplicados.\n",
    "3. Transformamos o sentimento em texto. \n",
    "4. Obtemos as variáveis dummy.\n",
    "5. Dividimos o conjunto de dados em conjuntos de treino e testes."
   ]
  },
  {
   "cell_type": "code",
   "execution_count": 1,
   "metadata": {},
   "outputs": [
    {
     "name": "stdout",
     "output_type": "stream",
     "text": [
      "                                          clean_text  category_Negative  \\\n",
      "0  when modi promised “minimum government maximum...                  1   \n",
      "1  talk all the nonsense and continue all the dra...                  0   \n",
      "2  what did just say vote for modi  welcome bjp t...                  0   \n",
      "3  asking his supporters prefix chowkidar their n...                  0   \n",
      "4  answer who among these the most powerful world...                  0   \n",
      "\n",
      "   category_Neutral  category_Positive  \n",
      "0                 0                  0  \n",
      "1                 1                  0  \n",
      "2                 0                  1  \n",
      "3                 0                  1  \n",
      "4                 0                  1  \n"
     ]
    }
   ],
   "source": [
    "import numpy as np\n",
    "import pandas as pd\n",
    "import tensorflow as tf\n",
    "\n",
    "dataset = pd.read_csv('./dataset/Twitter_Data.csv')\n",
    "\n",
    "#drop nan values\n",
    "dataset = dataset.dropna()\n",
    "\n",
    "#drop duplicates\n",
    "\n",
    "dataset = dataset.drop_duplicates()\n",
    "\n",
    "#transform the sentiment to text\n",
    "dataset['category'] = dataset['category'].map({-1:'Negative', 1:'Positive', 0:'Neutral'})\n",
    "\n",
    "#get dummy variables\n",
    "\n",
    "dataset = pd.get_dummies(dataset, columns=['category'])\n",
    "\n",
    "print(dataset.head())\n",
    "\n",
    "x = dataset[\"clean_text\"]\n",
    "\n",
    "y = dataset.drop(['clean_text'], axis=1)\n",
    "\n",
    "x = x.to_numpy(dtype=\"<U43\")\n",
    "\n",
    "y = y.to_numpy()\n",
    "\n",
    "from sklearn.model_selection import train_test_split\n",
    "\n",
    "x_train, x_test, y_train, y_test = train_test_split(x, y, test_size=0.2, random_state=42)"
   ]
  },
  {
   "cell_type": "markdown",
   "metadata": {},
   "source": [
    "1. A primeira camada no nosso modelo é a camada que acabámos de criar acima (codificador). \n",
    "2. Após a camada codificadora, adicionamos uma camada de incorporação. Esta camada irá converter o vocabulário codificado inteiro para um vector com dimensões de embedding_dim para cada índice de palavras.\n",
    "3. A seguir, adicionamos uma camada bidireccional com unidades LSTM=64. Isto devolve uma sequência de vectores da dimensão 64.\n",
    "4. A seguir, adicionamos uma camada Bidireccional com unidades LSTM=32. Isto retorna um único vector da dimensão 64.\n",
    "5. Este vector de saída de comprimento fixo é canalizado através de uma camada totalmente ligada (Densa) com 64 unidades escondidas.\n",
    "6. A última camada está densamente ligada com um único nó de saída."
   ]
  },
  {
   "cell_type": "code",
   "execution_count": 2,
   "metadata": {},
   "outputs": [],
   "source": [
    "VOCAB_SIZE = 1000\n",
    "encoder = tf.keras.layers.TextVectorization(\n",
    "    max_tokens=VOCAB_SIZE)\n",
    "encoder.adapt(x_train)\n",
    "\n",
    "\n",
    "vocab = np.array(encoder.get_vocabulary())\n",
    "vocab[:20]\n",
    "\n",
    "\n",
    "model = tf.keras.Sequential([\n",
    "    encoder,\n",
    "    tf.keras.layers.Embedding(len(encoder.get_vocabulary()), 64, mask_zero=True),\n",
    "    tf.keras.layers.Bidirectional(tf.keras.layers.LSTM(64,  return_sequences=True)),\n",
    "    tf.keras.layers.Bidirectional(tf.keras.layers.LSTM(32)),\n",
    "    tf.keras.layers.Dense(64, activation='relu'),\n",
    "    tf.keras.layers.Dropout(0.5),\n",
    "    tf.keras.layers.Dense(1)\n",
    "])"
   ]
  },
  {
   "cell_type": "markdown",
   "metadata": {},
   "source": [
    "1. Criamos um modelo utilizando a API Sequencial.\n",
    "2. Adicionamos camadas ao modelo.\n",
    "3. Compilamos o modelo e especificamos a função de perda e optimizador. "
   ]
  },
  {
   "cell_type": "code",
   "execution_count": 3,
   "metadata": {},
   "outputs": [],
   "source": [
    "model.compile(loss=tf.keras.losses.BinaryCrossentropy(from_logits=True),\n",
    "              optimizer=tf.keras.optimizers.Adam(1e-4),\n",
    "              metrics=['accuracy'])"
   ]
  },
  {
   "cell_type": "markdown",
   "metadata": {},
   "source": [
    "1. model.fit() treina o modelo para um número fixo de epochs (iterações sobre um conjunto de dados). \n",
    "2. epochs=20 especifica que o modelo irá iterar 20 vezes sobre os datos de treino."
   ]
  },
  {
   "cell_type": "code",
   "execution_count": null,
   "metadata": {},
   "outputs": [],
   "source": [
    "history = model.fit(x_train, y_train,epochs=20)"
   ]
  },
  {
   "cell_type": "markdown",
   "metadata": {},
   "source": [
    "1. model.evaluate() devolve o valor de perda & valores métricos para o modelo em modo de teste\n",
    "2. O valor da perda é o valor que o objectivo de optimização do modelo foi minimizado para\n",
    "3. Os valores métricos são os valores que foram especificados no método de compilação() do modelo"
   ]
  },
  {
   "cell_type": "code",
   "execution_count": 76,
   "metadata": {},
   "outputs": [
    {
     "name": "stdout",
     "output_type": "stream",
     "text": [
      "1019/1019 [==============================] - 8s 5ms/step - loss: nan - accuracy: 0.3385\n",
      "Test Loss: nan\n",
      "Test Accuracy: 0.3385078012943268\n"
     ]
    }
   ],
   "source": [
    "test_loss, test_acc = model.evaluate(x_test, y_test)\n",
    "\n",
    "print('Test Loss:', test_loss)\n",
    "print('Test Accuracy:', test_acc)"
   ]
  },
  {
   "cell_type": "markdown",
   "metadata": {},
   "source": [
    "Como o resultado do modelo não foi satisfatório, foi necessário fazer uma nova tentativa, dessa vez com uma nova abordagem."
   ]
  },
  {
   "cell_type": "markdown",
   "metadata": {},
   "source": [
    "1. A primeira linha de código é a mesma que a anterior. É utilizado para importar as bibliotecas necessárias.\n",
    "2. A segunda linha de código é a mesma que a anterior. É utilizada para carregar o conjunto de dados.\n",
    "3. A terceira linha de código é a mesma que a anterior. É utilizada para dividir o conjunto de dados em conjuntos de treino e testes.\n",
    "4. A quarta linha de código é a mesma que a anterior. É utilizada para obter o vocabulário do conjunto de treino.\n",
    "5. A quinta linha de código é a mesma que a anterior. É utilizada para codificar os conjuntos de treino e testes.\n",
    "6. A sexta linha de código é a mesma que a anterior. É utilizada para definir o modelo.\n",
    "7. A sétima linha de código é a mesma que a anterior. É utilizada para compilar o modelo.\n",
    "8. A oitava linha de código é a mesma que a anterior. É utilizada para treinar o modelo.\n",
    "9. A nona linha de código é a mesma que a anterior. É utilizada para testar o modelo. \n",
    "10. A décima linha de código é utilizada para imprimir a perda do teste.\n",
    "11. A décima primeira linha de código é utilizada para imprimir a precisão do teste."
   ]
  },
  {
   "cell_type": "code",
   "execution_count": 5,
   "metadata": {},
   "outputs": [
    {
     "name": "stdout",
     "output_type": "stream",
     "text": [
      "Epoch 1/20\n"
     ]
    },
    {
     "name": "stderr",
     "output_type": "stream",
     "text": [
      "c:\\Users\\heito\\AppData\\Local\\Programs\\Python\\Python310\\lib\\site-packages\\keras\\backend.py:5531: UserWarning: \"`categorical_crossentropy` received `from_logits=True`, but the `output` argument was produced by a Softmax activation and thus does not represent logits. Was this intended?\n",
      "  output, from_logits = _get_logits(\n"
     ]
    },
    {
     "name": "stdout",
     "output_type": "stream",
     "text": [
      "4075/4075 [==============================] - 41s 9ms/step - loss: 0.8510 - accuracy: 0.5846 - val_loss: 0.8165 - val_accuracy: 0.5980\n",
      "Epoch 2/20\n",
      "4075/4075 [==============================] - 39s 10ms/step - loss: 0.8149 - accuracy: 0.6029 - val_loss: 0.8127 - val_accuracy: 0.6005\n",
      "Epoch 3/20\n",
      "4075/4075 [==============================] - 40s 10ms/step - loss: 0.8054 - accuracy: 0.6067 - val_loss: 0.8080 - val_accuracy: 0.6000\n",
      "Epoch 4/20\n",
      "4075/4075 [==============================] - 38s 9ms/step - loss: 0.7983 - accuracy: 0.6120 - val_loss: 0.8131 - val_accuracy: 0.6010\n",
      "Epoch 5/20\n",
      "4075/4075 [==============================] - 38s 9ms/step - loss: 0.7920 - accuracy: 0.6160 - val_loss: 0.8108 - val_accuracy: 0.6041\n",
      "Epoch 6/20\n",
      "4075/4075 [==============================] - 38s 9ms/step - loss: 0.7852 - accuracy: 0.6189 - val_loss: 0.8064 - val_accuracy: 0.6049\n",
      "Epoch 7/20\n",
      "4075/4075 [==============================] - 38s 9ms/step - loss: 0.7800 - accuracy: 0.6231 - val_loss: 0.8183 - val_accuracy: 0.5964\n",
      "Epoch 8/20\n",
      "4075/4075 [==============================] - 38s 9ms/step - loss: 0.7748 - accuracy: 0.6242 - val_loss: 0.8084 - val_accuracy: 0.6066\n",
      "Epoch 9/20\n",
      "4075/4075 [==============================] - 38s 9ms/step - loss: 0.7691 - accuracy: 0.6272 - val_loss: 0.8103 - val_accuracy: 0.6070\n",
      "Epoch 10/20\n",
      "4075/4075 [==============================] - 39s 9ms/step - loss: 0.7626 - accuracy: 0.6283 - val_loss: 0.8200 - val_accuracy: 0.6059\n",
      "Epoch 11/20\n",
      "4075/4075 [==============================] - 39s 10ms/step - loss: 0.7567 - accuracy: 0.6326 - val_loss: 0.8254 - val_accuracy: 0.6055\n",
      "Epoch 12/20\n",
      "4075/4075 [==============================] - 39s 9ms/step - loss: 0.7514 - accuracy: 0.6345 - val_loss: 0.8243 - val_accuracy: 0.6047\n",
      "Epoch 13/20\n",
      "4075/4075 [==============================] - 39s 10ms/step - loss: 0.7459 - accuracy: 0.6389 - val_loss: 0.8327 - val_accuracy: 0.6048\n",
      "Epoch 14/20\n",
      "4075/4075 [==============================] - 39s 10ms/step - loss: 0.7399 - accuracy: 0.6409 - val_loss: 0.8432 - val_accuracy: 0.6025\n",
      "Epoch 15/20\n",
      "4075/4075 [==============================] - 39s 10ms/step - loss: 0.7354 - accuracy: 0.6426 - val_loss: 0.8423 - val_accuracy: 0.6016\n",
      "Epoch 16/20\n",
      "4075/4075 [==============================] - 39s 10ms/step - loss: 0.7306 - accuracy: 0.6448 - val_loss: 0.8510 - val_accuracy: 0.6006\n",
      "Epoch 17/20\n",
      "4075/4075 [==============================] - 39s 10ms/step - loss: 0.7250 - accuracy: 0.6491 - val_loss: 0.8530 - val_accuracy: 0.6024\n",
      "Epoch 18/20\n",
      "4075/4075 [==============================] - 39s 10ms/step - loss: 0.7207 - accuracy: 0.6486 - val_loss: 0.8468 - val_accuracy: 0.6001\n",
      "Epoch 19/20\n",
      "4075/4075 [==============================] - 39s 10ms/step - loss: 0.7161 - accuracy: 0.6527 - val_loss: 0.8523 - val_accuracy: 0.5981\n",
      "Epoch 20/20\n",
      "4075/4075 [==============================] - 39s 10ms/step - loss: 0.7119 - accuracy: 0.6548 - val_loss: 0.8661 - val_accuracy: 0.5993\n",
      "1019/1019 [==============================] - 2s 2ms/step - loss: 0.8661 - accuracy: 0.5993\n",
      "Test Loss: 0.8661410212516785\n",
      "Test Accuracy: 0.5992820858955383\n"
     ]
    }
   ],
   "source": [
    "model2 = tf.keras.Sequential([\n",
    "    encoder,\n",
    "    tf.keras.layers.Embedding(len(encoder.get_vocabulary()), 64, mask_zero=True),\n",
    "    tf.keras.layers.LSTM(100, dropout=0.2, recurrent_dropout=0.2),\n",
    "    tf.keras.layers.Dense(128, activation='relu'),\n",
    "    tf.keras.layers.Dropout(0.5),\n",
    "    tf.keras.layers.Dense(3, activation='softmax')\n",
    "])\n",
    "\n",
    "tf.keras.optimizers.Adam(learning_rate=0.00146, name='Adam')\n",
    "\n",
    "model2.compile(loss=tf.keras.losses.CategoricalCrossentropy(from_logits=True),\n",
    "                optimizer='Adam',\n",
    "                metrics=['accuracy'])\n",
    "\n",
    "history2 = model2.fit(x_train, y_train, epochs=20, validation_data=(x_test, y_test))\n",
    "\n",
    "test_loss2, test_acc2 = model2.evaluate(x_test, y_test)\n",
    "\n",
    "print('Test Loss:', test_loss2)\n",
    "print('Test Accuracy:', test_acc2)"
   ]
  },
  {
   "cell_type": "markdown",
   "metadata": {},
   "source": [
    "Agora o resultado já foi melhor mais ainda não é satisfátorio, vamos salvar e tentar outra abordagem novamente."
   ]
  },
  {
   "cell_type": "code",
   "execution_count": 25,
   "metadata": {},
   "outputs": [
    {
     "name": "stdout",
     "output_type": "stream",
     "text": [
      "INFO:tensorflow:Assets written to: ./modelo2/model2\\assets\n"
     ]
    },
    {
     "name": "stderr",
     "output_type": "stream",
     "text": [
      "INFO:tensorflow:Assets written to: ./modelo2/model2\\assets\n"
     ]
    }
   ],
   "source": [
    "model2.save_weights('./modelo2/model2_weights')\n",
    "\n",
    "#save the model\n",
    "model2.save('./modelo2/model2')"
   ]
  },
  {
   "cell_type": "markdown",
   "metadata": {},
   "source": [
    "O gráfico está plotado abaixo para visualização do modelo"
   ]
  },
  {
   "cell_type": "code",
   "execution_count": 10,
   "metadata": {},
   "outputs": [
    {
     "data": {
      "image/png": "[encoded data removed]",
      "text/plain": [
       "<Figure size 640x480 with 1 Axes>"
      ]
     },
     "metadata": {},
     "output_type": "display_data"
    }
   ],
   "source": [
    "#plot model 2\n",
    "\n",
    "import matplotlib.pyplot as plt\n",
    "\n",
    "plt.plot(history2.history['accuracy'])\n",
    "plt.plot(history2.history['loss'])\n",
    "plt.title('model accuracy and loss')\n",
    "plt.ylabel('accuracy and loss')\n",
    "plt.xlabel('epoch')\n",
    "plt.legend(['accuracy', 'loss'], loc='upper left')\n",
    "plt.show()"
   ]
  },
  {
   "cell_type": "markdown",
   "metadata": {},
   "source": [
    "1. Primeiro lemos os dados utilizando pandas. \n",
    "2. Em seguida, transformamos as categorias para a cadeia correspondente.\n",
    "3. Utilizamos a função pandas get_dummies para transformar a cadeia de caracteres em codificações de uma só corda. \n",
    "4. Dividimos os dados em conjuntos de dados de treino e teste."
   ]
  },
  {
   "cell_type": "code",
   "execution_count": 11,
   "metadata": {},
   "outputs": [],
   "source": [
    "df = pd.read_csv('./dataset/Twitter_Data.csv')\n",
    "\n",
    "\n",
    "def transform_category(category):\n",
    "    if category == 1.0:\n",
    "        return \"Good\"\n",
    "    if category == 0.0:\n",
    "        return \"Neutral\"\n",
    "    if category == -1.0:\n",
    "        return \"Bad\"\n",
    "\n",
    "df['category'] = df['category'].apply(lambda category: transform_category(category))\n",
    "\n",
    "category = pd.get_dummies(df.category)\n",
    "df_category = pd.concat([df, category], axis=1)\n",
    "df_category = df_category.drop(columns='category')\n",
    "\n",
    "text = df_category['clean_text'].astype(str)\n",
    "label = df_category[['Bad', 'Good', 'Neutral']].values\n",
    "\n",
    "category_train, category_test, label_train, label_test = train_test_split(text, label, test_size = 0.3)"
   ]
  },
  {
   "cell_type": "markdown",
   "metadata": {},
   "source": [
    "1. O tokenizer é criado, utilizando o parâmetro num_words para limitar o tamanho do vocabulário.\n",
    "O parâmetro oov_token é utilizado para especificar o token que será utilizado para substituir palavras fora de vocabulário durante o método text_to_sequence.\n",
    "2. O tokenizer é treinado no conjunto de treino. Isto é feito utilizando o método fit_on_texts, onde lhe passamos o conjunto de treino. \n",
    "3. O tokenizer é utilizado para converter os conjuntos de treino e teste em sequências. Isto é feito utilizando o método text_to_sequences, onde lhe passamos os conjuntos de treino e testes. \n",
    "4. As sequências são então acolchoadas utilizando o método pad_sequences, onde passamos as sequências de treino e teste, e o parâmetro de acolchoamento é definido para indicar que queremos que o acolchoamento seja adicionado antes das sequências."
   ]
  },
  {
   "cell_type": "code",
   "execution_count": 12,
   "metadata": {},
   "outputs": [],
   "source": [
    "tokenizer2 = tf.keras.preprocessing.text.Tokenizer(num_words=1920, oov_token=\"x\")\n",
    "tokenizer2.fit_on_texts(category_train)\n",
    "tokenizer2.fit_on_texts(category_test)\n",
    "\n",
    "sekuens_train = tokenizer2.texts_to_sequences(category_train)\n",
    "sekuens_test = tokenizer2.texts_to_sequences(category_test)\n",
    "\n",
    "padded_train = tf.keras.preprocessing.sequence.pad_sequences(sekuens_train)\n",
    "padded_test = tf.keras.preprocessing.sequence.pad_sequences(sekuens_test)"
   ]
  },
  {
   "cell_type": "markdown",
   "metadata": {},
   "source": [
    "1. Primeiro importamos a biblioteca Keras, depois importamos o modelo Sequencial e a camada Densa\n",
    "2. Definimos então o modelo, criando um objecto de classe sequencial, e adicionando-lhe as camadas sequencialmente\n",
    "3. A primeira camada é a camada de incorporação, que é utilizada para converter os índices inteiros em vectores densos.\n",
    "4. A camada seguinte é a camada LSTM, que é um tipo especial de RNN, capaz de aprender dependências a longo prazo\n",
    "5. Depois acrescentamos uma camada de rede neural ligada densamente regular, com 128 neurónios e activação ReLU\n",
    "6. Em seguida, adicionamos uma camada de desprendimento, que é uma técnica para evitar o excesso de equipamento, através da eliminação aleatória de 50% dos neurónios.\n",
    "7. Finalmente adicionamos a camada de saída, com 3 neurónios e activação softmax"
   ]
  },
  {
   "cell_type": "code",
   "execution_count": 26,
   "metadata": {},
   "outputs": [],
   "source": [
    "model3 = tf.keras.Sequential([\n",
    "    tf.keras.layers.Embedding(input_dim=1920, output_dim=16),\n",
    "    tf.keras.layers.LSTM(64),\n",
    "    tf.keras.layers.Dense(128, activation='relu'),\n",
    "    tf.keras.layers.Dropout(0.5),\n",
    "    tf.keras.layers.Dense(3, activation='softmax')\n",
    "])"
   ]
  },
  {
   "cell_type": "markdown",
   "metadata": {},
   "source": [
    "1. Estamos a utilizar o Adam optimizer para treinar o modelo.\n",
    "2. Estamos a utilizar a perda da categorical_crossentropy porque temos mais de 2 classes. \n",
    "3. Estamos a utilizar a métrica de precisão para medir o desempenho do modelo."
   ]
  },
  {
   "cell_type": "code",
   "execution_count": 27,
   "metadata": {},
   "outputs": [],
   "source": [
    "model3.compile(optimizer = 'Adam',loss = 'categorical_crossentropy',metrics = ['accuracy'])"
   ]
  },
  {
   "cell_type": "markdown",
   "metadata": {},
   "source": [
    "1. Primeiro, criamos um directório de registo para TensorBoard com um nome que inclui a data/hora actual. Isto permitir-lhe-á visualizar facilmente os registos de TensorBoard para múltiplas execuções. \n",
    "2. Em seguida, criamos uma callback de TensorBoard que é configurada para escrever os registos no directório de registos.\n",
    "3. Finalmente, treinamos o modelo, passando-lhe a chamada de retorno do TensorBoard. "
   ]
  },
  {
   "cell_type": "code",
   "execution_count": 28,
   "metadata": {},
   "outputs": [
    {
     "name": "stdout",
     "output_type": "stream",
     "text": [
      "Epoch 1/10\n",
      "3566/3566 [==============================] - 53s 14ms/step - loss: 0.4602 - accuracy: 0.8388\n",
      "Epoch 2/10\n",
      "3566/3566 [==============================] - 50s 14ms/step - loss: 0.3482 - accuracy: 0.8923\n",
      "Epoch 3/10\n",
      "3566/3566 [==============================] - 57s 16ms/step - loss: 0.3273 - accuracy: 0.8981\n",
      "Epoch 4/10\n",
      "3566/3566 [==============================] - 53s 15ms/step - loss: 0.3126 - accuracy: 0.9017\n",
      "Epoch 5/10\n",
      "3566/3566 [==============================] - 56s 16ms/step - loss: 0.3013 - accuracy: 0.9038\n",
      "Epoch 6/10\n",
      "3566/3566 [==============================] - 54s 15ms/step - loss: 0.2921 - accuracy: 0.9056\n",
      "Epoch 7/10\n",
      "3566/3566 [==============================] - 51s 14ms/step - loss: 0.2837 - accuracy: 0.9068\n",
      "Epoch 8/10\n",
      "3566/3566 [==============================] - 54s 15ms/step - loss: 0.2752 - accuracy: 0.9086\n",
      "Epoch 9/10\n",
      "3566/3566 [==============================] - 56s 16ms/step - loss: 0.2672 - accuracy: 0.9102\n",
      "Epoch 10/10\n",
      "3566/3566 [==============================] - 55s 16ms/step - loss: 0.2579 - accuracy: 0.9122\n"
     ]
    }
   ],
   "source": [
    "from packaging import version\n",
    "\n",
    "logdir=\"logs/fit/\"\n",
    "tensorboard_callback = tf.keras.callbacks.TensorBoard(log_dir=logdir)\n",
    "\n",
    "history3 = model3.fit(padded_train, label_train, epochs=10, callbacks=[tensorboard_callback])"
   ]
  },
  {
   "cell_type": "markdown",
   "metadata": {},
   "source": [
    "Agora o resultado foi satisfatório"
   ]
  },
  {
   "cell_type": "markdown",
   "metadata": {},
   "source": [
    "Vamos plotar o grafico novamente para ficar facil de vizualizar"
   ]
  },
  {
   "cell_type": "code",
   "execution_count": 29,
   "metadata": {},
   "outputs": [
    {
     "data": {
      "image/png": "[encoded data removed]",
      "text/plain": [
       "<Figure size 640x480 with 1 Axes>"
      ]
     },
     "metadata": {},
     "output_type": "display_data"
    },
    {
     "name": "stdout",
     "output_type": "stream",
     "text": [
      "1528/1528 [==============================] - 8s 5ms/step - loss: 0.3498 - accuracy: 0.8961\n",
      "Test Loss: 0.349810391664505\n",
      "Test Accuracy: 0.8961426615715027\n"
     ]
    }
   ],
   "source": [
    "plt.plot(history3.history['accuracy'])\n",
    "plt.plot(history3.history['loss'])\n",
    "plt.title('model accuracy and loss')\n",
    "plt.ylabel('accuracy and loss')\n",
    "plt.xlabel('epoch')\n",
    "plt.legend(['accuracy', 'loss'], loc='upper left')\n",
    "plt.show()\n",
    "\n",
    "test_loss3, test_acc3 = model3.evaluate(padded_test, label_test)\n",
    "\n",
    "print('Test Loss:', test_loss3)\n",
    "print('Test Accuracy:', test_acc3)"
   ]
  },
  {
   "cell_type": "markdown",
   "metadata": {},
   "source": [
    "Agora vamos salvar o último modelo"
   ]
  },
  {
   "cell_type": "code",
   "execution_count": 30,
   "metadata": {},
   "outputs": [
    {
     "name": "stderr",
     "output_type": "stream",
     "text": [
      "WARNING:absl:Found untraced functions such as lstm_cell_8_layer_call_fn, lstm_cell_8_layer_call_and_return_conditional_losses while saving (showing 2 of 2). These functions will not be directly callable after loading.\n"
     ]
    },
    {
     "name": "stdout",
     "output_type": "stream",
     "text": [
      "INFO:tensorflow:Assets written to: ./modelo3/model3\\assets\n"
     ]
    },
    {
     "name": "stderr",
     "output_type": "stream",
     "text": [
      "INFO:tensorflow:Assets written to: ./modelo3/model3\\assets\n"
     ]
    }
   ],
   "source": [
    "model3.save_weights('./modelo3/model3_weights')\n",
    "\n",
    "#save the model\n",
    "model3.save('./modelo3/model3')"
   ]
  },
  {
   "cell_type": "markdown",
   "metadata": {},
   "source": [
    "E savalvar o tokenizer"
   ]
  },
  {
   "cell_type": "code",
   "execution_count": 31,
   "metadata": {},
   "outputs": [],
   "source": [
    "#save the tokenizer\n",
    "\n",
    "import pickle\n",
    "\n",
    "with open('tokenizer.pickle', 'wb') as handle:\n",
    "    pickle.dump(tokenizer2, handle, protocol=pickle.HIGHEST_PROTOCOL)\n"
   ]
  },
  {
   "cell_type": "markdown",
   "metadata": {},
   "source": [
    "vamos iniciar o TensorBoard para vizualizar"
   ]
  },
  {
   "cell_type": "code",
   "execution_count": 32,
   "metadata": {},
   "outputs": [
    {
     "data": {
      "text/plain": [
       "'2.10.1'"
      ]
     },
     "execution_count": 32,
     "metadata": {},
     "output_type": "execute_result"
    }
   ],
   "source": [
    "import tensorboard\n",
    "tensorboard.__version__"
   ]
  },
  {
   "cell_type": "markdown",
   "metadata": {},
   "source": [
    "Para ter acesso ao tensorboard executo esse comando no terminal:\n",
    "tensorboard --logdir ./AI/logs"
   ]
  },
  {
   "cell_type": "markdown",
   "metadata": {},
   "source": [
    "## Screenshots\n",
    "\n",
    "![Grafico](https://i.imgur.com/w9UxbYD.png)"
   ]
  }
 ],
 "metadata": {
  "kernelspec": {
   "display_name": "Python 3.10.7 64-bit",
   "language": "python",
   "name": "python3"
  },
  "language_info": {
   "codemirror_mode": {
    "name": "ipython",
    "version": 3
   },
   "file_extension": ".py",
   "mimetype": "text/x-python",
   "name": "python",
   "nbconvert_exporter": "python",
   "pygments_lexer": "ipython3",
   "version": "3.10.7"
  },
  "orig_nbformat": 4,
  "vscode": {
   "interpreter": {
    "hash": "1766f6fb2778ad2deabb55c8a77a9b422ec6f0de62dbf216d383ab8c57cd3118"
   }
  }
 },
 "nbformat": 4,
 "nbformat_minor": 2
}
